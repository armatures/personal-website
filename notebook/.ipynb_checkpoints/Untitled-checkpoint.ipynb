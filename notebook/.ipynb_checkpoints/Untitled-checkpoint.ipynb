{
 "cells": [
  {
   "cell_type": "markdown",
   "metadata": {},
   "source": [
    "# Exploring Python dis\n",
    "As you might know, CPython, the most commonly used implementation of Python, uses a stack based virtual machine to run Python scripts. This means that Python scripts never get directly executed but turned into bytecode first. This allows for some optimisations during the bytecode compilation step and shipping of bytecode files (`.pyc` files) to end customers instead of raw scripts. [Ableton Live](https://www.ableton.com/en/live/) ships with a CPython interpreter for its MIDI hardware integration, but does not let users look at the actual hardware integration scripts and only includes the compiled versions of the individual scripts.\n",
    "\n",
    "So what exactly can be found in CPython bytecode? Enter the Python disassembly library [dis](https://docs.python.org/3/library/dis.html). It is included in the Python standard library and allows developers to view and understand the internal [bytecode](https://docs.python.org/3/glossary.html#term-bytecode) representation of code objects in CPython. Other implementations of Python might not use an internal bytecode representation, so this is highly CPython specific.\n",
    "\n",
    "Since we are in a REPL right now, a typical code object would be a function, such this one:"
   ]
  },
  {
   "cell_type": "code",
   "execution_count": 1,
   "metadata": {
    "collapsed": true
   },
   "outputs": [],
   "source": [
    "def show_weather():\n",
    "    print(\"The weather is great!\")"
   ]
  },
  {
   "cell_type": "code",
   "execution_count": 2,
   "metadata": {
    "collapsed": false
   },
   "outputs": [
    {
     "name": "stdout",
     "output_type": "stream",
     "text": [
      "The weather is great!\n"
     ]
    }
   ],
   "source": [
    "show_weather()"
   ]
  },
  {
   "cell_type": "markdown",
   "metadata": {},
   "source": [
    "Before even using the `dis` library, we can actually peek at the bytecode through one of `show_weather`'s attributes."
   ]
  },
  {
   "cell_type": "code",
   "execution_count": 12,
   "metadata": {
    "collapsed": false
   },
   "outputs": [
    {
     "name": "stdout",
     "output_type": "stream",
     "text": [
      "b't\\x00\\x00d\\x01\\x00\\x83\\x01\\x00\\x01d\\x00\\x00S'\n"
     ]
    }
   ],
   "source": [
    "code_object = show_weather.__code__  # __code__ contains the function internals\n",
    "code = code_object.co_code\n",
    "print(code)"
   ]
  },
  {
   "cell_type": "markdown",
   "metadata": {},
   "source": [
    "That does not look very helpful. Thankfully, the `dis` module has a `opname` list, that maps bytecode instructions (opcodes) to human readable names, similar to assembler instruction mnemonics such as MOV, ADD, etc. We need to keep in mind though, that we cannot just run all bytes through the `opnamp` list, as some instructions can have an attribute. Therefore, not all bytes in a bytecode object represent bytecode instructions. Let's try it out, then we will see if there is a problem."
   ]
  },
  {
   "cell_type": "code",
   "execution_count": 19,
   "metadata": {
    "collapsed": false
   },
   "outputs": [
    {
     "name": "stdout",
     "output_type": "stream",
     "text": [
      "Byte 116 -> opcode LOAD_GLOBAL\n",
      "Byte 0 -> opcode <0>\n",
      "Byte 0 -> opcode <0>\n",
      "Byte 100 -> opcode LOAD_CONST\n",
      "Byte 1 -> opcode POP_TOP\n",
      "Byte 0 -> opcode <0>\n",
      "Byte 131 -> opcode CALL_FUNCTION\n",
      "Byte 1 -> opcode POP_TOP\n",
      "Byte 0 -> opcode <0>\n",
      "Byte 1 -> opcode POP_TOP\n",
      "Byte 100 -> opcode LOAD_CONST\n",
      "Byte 0 -> opcode <0>\n",
      "Byte 0 -> opcode <0>\n",
      "Byte 83 -> opcode RETURN_VALUE\n"
     ]
    }
   ],
   "source": [
    "from dis import opname\n",
    "for byte in code:\n",
    "    print('Byte {} -> opcode {}'.format(byte, opname[byte]))"
   ]
  },
  {
   "cell_type": "markdown",
   "metadata": {},
   "source": [
    "That looks interesting. We immediately notice the occurence of `<0>` opnames. Since a lot of the CPython opcodes require arguments to be specified, not all bytes in our bytecode represent opcodes, but references to values. In this case `<0>` is part of a numeric reference to a constant or global value. `POP_TOP` is part of the reference number as well, but we naively interpret it as an opcode.\n",
    "\n",
    "If we want to know which values our method is referring to, we have to dig into the code object even more. In this particular example we are interested in constants and name references. You will see why."
   ]
  },
  {
   "cell_type": "code",
   "execution_count": 28,
   "metadata": {
    "collapsed": false
   },
   "outputs": [
    {
     "name": "stdout",
     "output_type": "stream",
     "text": [
      "Constant values:\n",
      "0: None \n",
      "1: The weather is great!\n",
      "Names:\n",
      "0: print\n"
     ]
    }
   ],
   "source": [
    "def pformat(tpl):\n",
    "    return \" \\n\".join(\"{}: {}\".format(n, val) for n, val in enumerate(tpl))\n",
    "print(\"Constant values:\")\n",
    "print(pformat(code_object.co_consts))\n",
    "\n",
    "print(\"Names:\")\n",
    "print(pformat(code_object.co_names))"
   ]
  },
  {
   "cell_type": "markdown",
   "metadata": {},
   "source": [
    "Excellent. We were able to retrieve the reference to `print` and the string constant `The weather is great!`. Let's see whether we're able to match the bytecode references with our references.\n",
    "\n",
    "Luckily, the `dis` module has a few lists of bytecodes called `hasname`, `hasconst`, `hasnargs` and similar, that contain all the opcodes that require name, constant or other arguments. Since our code only has constants, globals, and function calls, we can go on without caring about other types of arguments.  Function calls require a 2 byte argument that specifies the amount of keyword parameters (significant byte) and the number of positional parameters (least significant byte) that have been placed on the stack."
   ]
  },
  {
   "cell_type": "code",
   "execution_count": 46,
   "metadata": {
    "collapsed": false
   },
   "outputs": [
    {
     "name": "stdout",
     "output_type": "stream",
     "text": [
      "LOAD_GLOBAL \t(name 'print')\n",
      "LOAD_CONST \t(const 'The weather is great!')\n",
      "CALL_FUNCTION \t(0 kw params, 1 positional params)\n",
      "POP_TOP \t\n",
      "LOAD_CONST \t(const None)\n",
      "RETURN_VALUE \t\n"
     ]
    }
   ],
   "source": [
    "from dis import hasname, hasconst, hasnargs\n",
    "\n",
    "code_listing = list(code) # copy the code as we are going to pop bytes off\n",
    "while code_listing:\n",
    "    byte = code_listing.pop(0)\n",
    "    addendum = ''\n",
    "    if byte in hasname:\n",
    "        index = code_listing.pop(0) << 1 + code_listing.pop(0)\n",
    "        addendum = '(name {})'.format(repr(code_object.co_names[index]))\n",
    "    elif byte in hasconst:\n",
    "        index = code_listing.pop(0)\n",
    "        addendum = '(const {})'.format(repr(code_object.co_consts[index]))\n",
    "        code_listing.pop(0)\n",
    "    elif byte in hasnargs:\n",
    "        nargs = code_listing.pop(0)\n",
    "        nkwargs = code_listing.pop(0)\n",
    "        addendum = '({} kw params, {} positional params)'.format(nkwargs, nargs)\n",
    "    print('{} \\t{}'.format(opname[byte], addendum))"
   ]
  },
  {
   "cell_type": "markdown",
   "metadata": {},
   "source": [
    "Holy cow! A working CPython disassembler! I doubt that the CPython developers would be able to come up with something like that!"
   ]
  },
  {
   "cell_type": "code",
   "execution_count": 17,
   "metadata": {
    "collapsed": false
   },
   "outputs": [
    {
     "name": "stdout",
     "output_type": "stream",
     "text": [
      "  2           0 LOAD_GLOBAL              0 (print)\n",
      "              3 LOAD_CONST               1 ('The weather is great!')\n",
      "              6 CALL_FUNCTION            1 (1 positional, 0 keyword pair)\n",
      "              9 POP_TOP\n",
      "             10 LOAD_CONST               0 (None)\n",
      "             13 RETURN_VALUE\n"
     ]
    }
   ],
   "source": [
    "from dis import dis\n",
    "dis(show_weather)"
   ]
  },
  {
   "cell_type": "markdown",
   "metadata": {},
   "source": [
    "Nevermind. There already is a disassembly method.\n",
    "\n",
    "Back to work."
   ]
  }
 ],
 "metadata": {
  "kernelspec": {
   "display_name": "Python 3",
   "language": "python",
   "name": "python3"
  },
  "language_info": {
   "codemirror_mode": {
    "name": "ipython",
    "version": 3
   },
   "file_extension": ".py",
   "mimetype": "text/x-python",
   "name": "python",
   "nbconvert_exporter": "python",
   "pygments_lexer": "ipython3",
   "version": "3.5.0"
  }
 },
 "nbformat": 4,
 "nbformat_minor": 0
}
