{
 "cells": [
  {
   "cell_type": "markdown",
   "metadata": {},
   "source": [
    "title: A brief UberRUSH overview and tutorial\n",
    "---\n",
    "Uber Rush provides cost-effective on-demand courier services. Find out more about how it works [here](https://rush.uber.com/how-it-works/). It is an exciting service that will allow companies to start delivering to local customers faster. Uber tries to make the process as easy as possible by providing an API which can be easily integrated into existing shop solutions and lets customers order cheap and easy shipping.\n",
    "\n",
    "We are going to look at the [UberRUSH API](https://developer.uber.com/docs/rush) from a technical perspective and try coming up with common usage scenarios that an application developer will encounter when working with this API. This article is going to be useful if you plan on integrating UberRUSH into your application. Instead of working with the real API, we will make use of Uber's API sandbox.\n",
    "\n",
    "We want to perform the following steps:\n",
    "\n",
    "1. Log in to the Uber API. We want to retrieve a valid OAuth2 token.\n",
    "2. Request delivery quotes. Customers need to see a delivery quote before choosing UberRUSH delivery.\n",
    "3. Schedule a delivery. In order to start the delivery process, the delivery endpoint will be called.\n",
    "4. Retrieve delivery details. Present the customer with shipping information and forward the shipping info to shipping/warehouse.\n",
    "5. Cancel the delivery. We are in a sandbox. Let's complete the cycle and cancel the delivery.\n",
    "\n",
    "## Signing up for Uber's API\n",
    "No API that is worth its two cents can be used without a good old API key pair. First we head over to the UberRUSH [account management](http://t.uber.com/newrushapp) page. Then, we are ready to register our application and create a key pair. Easy as pie! Head over to the [Developer Dashboard](https://developer.uber.com/dashboard) and you'll be done in no time.\n",
    "\n",
    "## API Wrapping with Tortilla + Python\n",
    "Now, I would like to introduce a tasty, delicious Python-based API tool called [Tortilla](https://github.com/redodo/tortilla). It will make any inedible API digestible (as long as it does json). Similar to how SQLAlchemy or the Ruby on Rails ORM are designed you can compose queries in a very compact way. For example, given a Tortilla wrapped API `taco`, POSTing a JSON object to an endpoint called\n",
    "\n",
    "```\n",
    "/user/1/account\n",
    "```\n",
    "\n",
    "is as easy as doing the following\n",
    "\n",
    "```\n",
    "taco.user(1).account.post(data={...}).\n",
    "```\n",
    "\n",
    "## Access Token retrieval\n",
    "\n",
    "For authentication, we are going to follow the [OAuth2 guide](https://developer.uber.com/docs/rush/authentication) in UberRUSH's API documentation.\n",
    "\n",
    "But first, let me vent about the quality of the API. Uber requires developers to always use OAuth2 tokens. Entirely reasonable for a professional application, you might say. What is not reasonable, is this:\n",
    "\n",
    "## How to make the Uber API crash and burn\n",
    "\n",
    "It should not be possible to make an API endpoint return `500`. But it is. Take a look for yourself:"
   ]
  },
  {
   "cell_type": "code",
   "execution_count": 1,
   "metadata": {
    "collapsed": false
   },
   "outputs": [
    {
     "name": "stdout",
     "output_type": "stream",
     "text": [
      "<!DOCTYPE HTML PUBLIC \"-//W3C//DTD HTML 3.2 Final//EN\">\n",
      "<title>500 Internal Server Error</title>\n",
      "<h1>Internal Server Error</h1>\n",
      "<p>The server encountered an internal error and was unable to complete your request.  Either the server is overloaded or there is an error in the application.</p>\n"
     ]
    }
   ],
   "source": [
    "%%bash\n",
    "curl 'https://login.uber.com/oauth2/v2/token' -H 'Content-Type: application/json' -d '1' -v 2>/dev/null"
   ]
  },
  {
   "cell_type": "markdown",
   "metadata": {},
   "source": [
    "Woops! It was an accident, I swear!\n",
    "## How to actually log in\n",
    "At this point I am tired of trying to figure out why the Uber API works with curl, but not with form-encoded requests in Tortilla. Human patience only gets you so far. That's why I am calling curl as a subprocess here. The response will be stored as a dictionary in `token`. Furthermore, I am going to assume that the API key pair is stored in the environment."
   ]
  },
  {
   "cell_type": "code",
   "execution_count": 2,
   "metadata": {
    "collapsed": false,
    "scrolled": true
   },
   "outputs": [
    {
     "name": "stdout",
     "output_type": "stream",
     "text": [
      "dict_keys(['access_token', 'scope', 'last_authenticated', 'token_type', 'expires_in'])\n",
      "Token expires in 30.0 days\n"
     ]
    }
   ],
   "source": [
    "from os import getenv\n",
    "from subprocess import check_output\n",
    "from json import loads\n",
    "token = loads(check_output(('curl', '-F', 'client_secret=' + getenv('RUSH_CLIENT_SECRET'),\n",
    "                        '-F', 'client_id=' + getenv('RUSH_CLIENT_ID'),\n",
    "                        '-F', 'grant_type=client_credentials',\n",
    "                        '-F', 'scope=delivery',\n",
    "                        'https://login.uber.com/oauth/v2/token')).decode())\n",
    "print(token.keys())\n",
    "# TODO understand why any sane API provider would want a 1 month expiration time 2016-06-14\n",
    "print(\"Token expires in {} days\".format(token['expires_in'] / 3600 / 24))"
   ]
  },
  {
   "cell_type": "markdown",
   "metadata": {},
   "source": [
    "That means we have completed __step 1__.\n",
    "\n",
    "## Retrieving a delivery quote\n",
    "\n",
    "Now that we have a valid token, let's wrap the Uber API sandbox with Tortilla and get started making some API calls."
   ]
  },
  {
   "cell_type": "code",
   "execution_count": 3,
   "metadata": {
    "collapsed": false
   },
   "outputs": [],
   "source": [
    "from tortilla import wrap\n",
    "uber = wrap(\"https://sandbox-api.uber.com/v1\",\n",
    "            headers={'Authorization': 'Bearer {}'.format(token['access_token'])})"
   ]
  },
  {
   "cell_type": "markdown",
   "metadata": {},
   "source": [
    "Tortilla does some mighty crazy `__getattr__` magic in the background. You will now see how this can be useful.\n",
    "\n",
    "Let's pretend for a second that Google Guy™️ at the Googleplex employee has just ordered the new iPhone 8 and selected UberRUSH for delivery. In order to present a shipping quote, we need both the pickup and drop off address. Pickup will be known to us since we are the vendor. Obviously, it is going to be shipped right from our Apple headquarters to the Googleplex in Mountainview, California. I've taken the liberty of jotting down both addresses for you:"
   ]
  },
  {
   "cell_type": "code",
   "execution_count": 4,
   "metadata": {
    "collapsed": false,
    "scrolled": true
   },
   "outputs": [],
   "source": [
    "pickup = {'location': {'address': '1 Infinite Loop',\n",
    "                       'city': 'Cupertino',\n",
    "                       'state': 'CA',\n",
    "                       'postal_code': '95014',\n",
    "                       'country': 'US'}}\n",
    "dropoff = {'location': {'address': '1600 Amphitheatre Parkway',\n",
    "                       'city': 'Mountainview',\n",
    "                       'state': 'CA',\n",
    "                       'postal_code': '94043',\n",
    "                       'country': 'US'}}"
   ]
  },
  {
   "cell_type": "markdown",
   "metadata": {},
   "source": [
    "According to the [API documentation](https://developer.uber.com/docs/rush/api/post-v1-deliveries-quote), we need to POST the two addresses to the following endpoint:\n",
    "```\n",
    "/v1/deliveries/quote\n",
    "```\n",
    "Now we can inform our Google employee on what shipping with UberRUSH is going to cost."
   ]
  },
  {
   "cell_type": "code",
   "execution_count": 5,
   "metadata": {
    "collapsed": false,
    "scrolled": true
   },
   "outputs": [
    {
     "name": "stdout",
     "output_type": "stream",
     "text": [
      "The delivery fee will be: 5.0 USD\n"
     ]
    },
    {
     "data": {
      "text/plain": [
       "{'quotes': [{'currency_code': 'USD',\n",
       "   'dropoff_eta': 13,\n",
       "   'end_time': None,\n",
       "   'estimated_at': 1465973935,\n",
       "   'expires_at': 1465975735,\n",
       "   'fee': 5.0,\n",
       "   'pickup_eta': 8,\n",
       "   'quote_id': 'db9434b3-51b7-4a91-ae4b-6d19a4d41ccc',\n",
       "   'ready_by_time': None,\n",
       "   'start_time': None},\n",
       "  {'currency_code': 'USD',\n",
       "   'dropoff_eta': 11,\n",
       "   'end_time': 1465981200,\n",
       "   'estimated_at': 1465973935,\n",
       "   'expires_at': 1465975735,\n",
       "   'fee': 5.0,\n",
       "   'pickup_eta': 9,\n",
       "   'quote_id': '4e7ef728-ec7c-4d85-8264-7ce1d01b519d',\n",
       "   'ready_by_time': 1465977000,\n",
       "   'start_time': 1465977600},\n",
       "  {'currency_code': 'USD',\n",
       "   'dropoff_eta': 12,\n",
       "   'end_time': 1465984800,\n",
       "   'estimated_at': 1465973935,\n",
       "   'expires_at': 1465975735,\n",
       "   'fee': 5.0,\n",
       "   'pickup_eta': 9,\n",
       "   'quote_id': 'e20712e4-688a-45ed-aa5a-c4bb0ac8d89c',\n",
       "   'ready_by_time': 1465980600,\n",
       "   'start_time': 1465981200},\n",
       "  {'currency_code': 'USD',\n",
       "   'dropoff_eta': 10,\n",
       "   'end_time': 1465988400,\n",
       "   'estimated_at': 1465973935,\n",
       "   'expires_at': 1465975735,\n",
       "   'fee': 5.0,\n",
       "   'pickup_eta': 8,\n",
       "   'quote_id': 'aa72c799-75f7-482b-a986-794c58aae411',\n",
       "   'ready_by_time': 1465984200,\n",
       "   'start_time': 1465984800}]}"
      ]
     },
     "execution_count": 5,
     "metadata": {},
     "output_type": "execute_result"
    }
   ],
   "source": [
    "response = uber.deliveries.quote.post(data={'pickup': pickup, 'dropoff': dropoff})\n",
    "print(\"The delivery fee will be: {} USD\".format(response.quotes[0].fee))\n",
    "response"
   ]
  },
  {
   "cell_type": "markdown",
   "metadata": {
    "collapsed": false
   },
   "source": [
    "Uber is giving us four different quotes, all for 5 USD but with different pick up times. Let's choose the first `quote_id` in the list and schedule it. We will find out how to do it in the next section."
   ]
  },
  {
   "cell_type": "code",
   "execution_count": 6,
   "metadata": {
    "collapsed": false
   },
   "outputs": [
    {
     "name": "stdout",
     "output_type": "stream",
     "text": [
      "quote_id: db9434b3-51b7-4a91-ae4b-6d19a4d41ccc\n"
     ]
    }
   ],
   "source": [
    "quote_id = response.quotes[0].quote_id\n",
    "print(\"quote_id: {}\".format(quote_id))"
   ]
  },
  {
   "cell_type": "markdown",
   "metadata": {},
   "source": [
    "For now, we have completed __step 2__."
   ]
  },
  {
   "cell_type": "markdown",
   "metadata": {},
   "source": [
    "## Scheduling a Delivery\n",
    "\n",
    "We need to specify the item to be delivered, using the [`/deliveries/` endpoint](https://developer.uber.com/docs/rush/api/post-v1-deliveries). In this case we will tell them that we're shipping an iPhone, as we promised to deliver to Google Guy™️."
   ]
  },
  {
   "cell_type": "code",
   "execution_count": 7,
   "metadata": {
    "collapsed": false
   },
   "outputs": [],
   "source": [
    "items = [{'title': 'iPhone 8',\n",
    "          'quantity': 1,\n",
    "          'width': 2.64,\n",
    "          'length': 5.44,\n",
    "          'height': 0.27,\n",
    "          'price': 549.0,\n",
    "          'currency_code': 'USD'}]"
   ]
  },
  {
   "cell_type": "markdown",
   "metadata": {},
   "source": [
    "### Seriously, Uber?\n",
    "Those Uber barbarians use inches in their POST parameter docs. The banality of API design.\n",
    "\n",
    "Furthermore, letting me specify the price as a float is a crude mistake. No way you should trust IEEE floating point decimals to your billing logic. This sounds like something right out of Coding Horror. Actually, there is something on Coding Horror [about this](https://blog.codinghorror.com/why-do-computers-suck-at-math/).\n",
    "\n",
    "Less rambling. More API calling."
   ]
  },
  {
   "cell_type": "code",
   "execution_count": 8,
   "metadata": {
    "collapsed": false,
    "scrolled": true
   },
   "outputs": [
    {
     "data": {
      "text/plain": [
       "{'courier': None,\n",
       " 'created_at': 1465973936,\n",
       " 'currency_code': 'USD',\n",
       " 'delivery_id': 'bd108436-404c-4264-95fe-e46bdebd27be',\n",
       " 'dropoff': {'contact': {'email': 'larry.doe@google.com',\n",
       "   'first_name': 'Larry',\n",
       "   'last_name': 'Doe',\n",
       "   'phone': {'number': '+1 (650) 253-0000', 'sms_enabled': False},\n",
       "   'send_email_notifications': True,\n",
       "   'send_sms_notifications': True},\n",
       "  'courier_notes': {},\n",
       "  'eta': 13,\n",
       "  'location': {'address': '1600 Amphitheatre Parkway',\n",
       "   'address_2': '',\n",
       "   'city': 'Mountainview',\n",
       "   'country': 'US',\n",
       "   'latitude': 0.0,\n",
       "   'longitude': 0.0,\n",
       "   'postal_code': '94043',\n",
       "   'state': 'CA'},\n",
       "  'signature_image': {'expires_at': '-62135596800', 'url': ''},\n",
       "  'signature_required': False,\n",
       "  'special_instructions': ''},\n",
       " 'fee': 5.0,\n",
       " 'items': [{'currency_code': 'USD',\n",
       "   'height': 0.27,\n",
       "   'is_fragile': False,\n",
       "   'length': 5.44,\n",
       "   'price': 549.0,\n",
       "   'quantity': 1,\n",
       "   'title': 'iPhone 8',\n",
       "   'weight': 0.0,\n",
       "   'width': 2.64}],\n",
       " 'order_reference_id': '',\n",
       " 'pickup': {'contact': {'email': 'tim.doe@apple.com',\n",
       "   'first_name': 'Tim',\n",
       "   'last_name': 'Doe',\n",
       "   'phone': {'number': '+1 (408) 996–1010', 'sms_enabled': False},\n",
       "   'send_email_notifications': True,\n",
       "   'send_sms_notifications': True},\n",
       "  'courier_notes': {},\n",
       "  'eta': 8,\n",
       "  'location': {'address': '1 Infinite Loop',\n",
       "   'address_2': '',\n",
       "   'city': 'Cupertino',\n",
       "   'country': 'US',\n",
       "   'latitude': 0.0,\n",
       "   'longitude': 0.0,\n",
       "   'postal_code': '95014',\n",
       "   'state': 'CA'},\n",
       "  'signature_image': {'expires_at': '-62135596800', 'url': ''},\n",
       "  'signature_required': False,\n",
       "  'special_instructions': ''},\n",
       " 'quote_id': 'db9434b3-51b7-4a91-ae4b-6d19a4d41ccc',\n",
       " 'status': 'processing',\n",
       " 'tracking_url': 'https://api.uber.com/v1/sandbox/map'}"
      ]
     },
     "execution_count": 8,
     "metadata": {},
     "output_type": "execute_result"
    }
   ],
   "source": [
    "delivery_pickup = {\n",
    "    'contact': {'first_name': 'Tim',\n",
    "                'last_name': 'Doe',\n",
    "                'email': 'tim.doe@apple.com',\n",
    "                'phone': {'number': '+1 (408) 996–1010',\n",
    "                          'sms_enabled': False}},\n",
    "                **pickup}  # Python 3.5 dict unpacking, see PEP 448\n",
    "delivery_dropoff = {\n",
    "    'contact': {'first_name': 'Larry',\n",
    "                'last_name': 'Doe',\n",
    "                'email': 'larry.doe@google.com',\n",
    "                'phone': {'number': '+1 (650) 253-0000',\n",
    "                          'sms_enabled': False}},\n",
    "                **dropoff}\n",
    "response = uber.deliveries.post(\n",
    "    data={'quote_id': quote_id,\n",
    "          'items': items,\n",
    "          'pickup': delivery_pickup,\n",
    "          'dropoff': delivery_dropoff})\n",
    "response"
   ]
  },
  {
   "cell_type": "markdown",
   "metadata": {},
   "source": [
    "We have succesfully scheduled a delivere. __Step 3__ is complete.\n",
    "\n",
    "## What did we just schedule?\n",
    "Is a UberRUSH courier going to come to Apple's offices now? I think I'm going to be in trouble. Let's double check and see whether my request has been entered into Uber's system. We will use the [`/deliveries` endpoint](https://developer.uber.com/docs/rush/api/get-v1-deliveries):"
   ]
  },
  {
   "cell_type": "code",
   "execution_count": 9,
   "metadata": {
    "collapsed": false
   },
   "outputs": [
    {
     "data": {
      "text/plain": [
       "{'courier': None,\n",
       " 'created_at': 1465973936,\n",
       " 'currency_code': 'USD',\n",
       " 'delivery_id': 'bd108436-404c-4264-95fe-e46bdebd27be',\n",
       " 'dropoff': {'contact': {'email': 'larry.doe@google.com',\n",
       "   'first_name': 'Larry',\n",
       "   'last_name': 'Doe',\n",
       "   'phone': {'number': '+1 (650) 253-0000', 'sms_enabled': False},\n",
       "   'send_email_notifications': True,\n",
       "   'send_sms_notifications': True},\n",
       "  'courier_notes': {},\n",
       "  'eta': 13,\n",
       "  'location': {'address': '1600 Amphitheatre Parkway',\n",
       "   'address_2': '',\n",
       "   'city': 'Mountainview',\n",
       "   'country': 'US',\n",
       "   'latitude': 0.0,\n",
       "   'longitude': 0.0,\n",
       "   'postal_code': '94043',\n",
       "   'state': 'CA'},\n",
       "  'signature_image': {'expires_at': '-62135596800', 'url': ''},\n",
       "  'signature_required': False,\n",
       "  'special_instructions': ''},\n",
       " 'fee': 5.0,\n",
       " 'items': [{'currency_code': 'USD',\n",
       "   'height': 0.27,\n",
       "   'is_fragile': False,\n",
       "   'length': 5.44,\n",
       "   'price': 549.0,\n",
       "   'quantity': 1,\n",
       "   'title': 'iPhone 8',\n",
       "   'weight': 0.0,\n",
       "   'width': 2.64}],\n",
       " 'order_reference_id': '',\n",
       " 'pickup': {'contact': {'email': 'tim.doe@apple.com',\n",
       "   'first_name': 'Tim',\n",
       "   'last_name': 'Doe',\n",
       "   'phone': {'number': '+1 (408) 996–1010', 'sms_enabled': False},\n",
       "   'send_email_notifications': True,\n",
       "   'send_sms_notifications': True},\n",
       "  'courier_notes': {},\n",
       "  'eta': 8,\n",
       "  'location': {'address': '1 Infinite Loop',\n",
       "   'address_2': '',\n",
       "   'city': 'Cupertino',\n",
       "   'country': 'US',\n",
       "   'latitude': 0.0,\n",
       "   'longitude': 0.0,\n",
       "   'postal_code': '95014',\n",
       "   'state': 'CA'},\n",
       "  'signature_image': {'expires_at': '-62135596800', 'url': ''},\n",
       "  'signature_required': False,\n",
       "  'special_instructions': ''},\n",
       " 'quote_id': 'db9434b3-51b7-4a91-ae4b-6d19a4d41ccc',\n",
       " 'status': 'processing',\n",
       " 'tracking_url': 'https://api.uber.com/v1/sandbox/map'}"
      ]
     },
     "execution_count": 9,
     "metadata": {},
     "output_type": "execute_result"
    }
   ],
   "source": [
    "response = uber.deliveries.get()\n",
    "response.deliveries[0]"
   ]
  },
  {
   "cell_type": "markdown",
   "metadata": {},
   "source": [
    "## Delivery detail view\n",
    "Looks good. Let's get a more detailed view on this delivery using the [`/deliveries/{delivery_id}` endpoint](https://developer.uber.com/docs/rush/api/get-v1-deliveries-delivery_id)"
   ]
  },
  {
   "cell_type": "code",
   "execution_count": 10,
   "metadata": {
    "collapsed": false
   },
   "outputs": [
    {
     "name": "stdout",
     "output_type": "stream",
     "text": [
      "delivery_id: bd108436-404c-4264-95fe-e46bdebd27be\n",
      "Delivery  status: `processing`\n"
     ]
    }
   ],
   "source": [
    "delivery_id = response.deliveries[0].delivery_id\n",
    "print(\"delivery_id: {}\".format(delivery_id))\n",
    "response = uber.deliveries(delivery_id).get()\n",
    "print(\"Delivery  status: `{}`\".format(response.status))"
   ]
  },
  {
   "cell_type": "markdown",
   "metadata": {},
   "source": [
    "The order has a status of `processing`. According to the [API docs](https://developer.uber.com/docs/rush/statuses), this means that a courier is about to be dispatched. __Step 4__ is complete.\n",
    "\n",
    "## Cancelling deliveries\n",
    "No time to waste; we shall cancel this sandbox delivery using the [`deliveries/{delivery_id}/cancel` endpoint](https://developer.uber.com/docs/rush/api/post-v1-deliveries-delivery_id-cancel).\n",
    "\n",
    "Since we are thorough beings, we are going to make sure all deliveries are cancelled, just in case any previous deliveries are left. You will see more than one delivery here as this is not the first session I am spending with the UberRUSH API."
   ]
  },
  {
   "cell_type": "code",
   "execution_count": 11,
   "metadata": {
    "collapsed": false
   },
   "outputs": [
    {
     "name": "stdout",
     "output_type": "stream",
     "text": [
      "Cancelling delivery_id: bd108436-404c-4264-95fe-e46bdebd27be\n",
      "Cancelling delivery_id: bd50916a-f16c-4dc8-819d-aa1cfc0afa8d\n",
      "Cancelling delivery_id: d8b1a609-be94-43f8-ae55-fd6d37975771\n",
      "Cancelling delivery_id: 93eea5aa-b27d-419f-8552-8d43b9050d25\n",
      "Cancelling delivery_id: b56be06c-5bd1-4ac2-932c-75f97d90241e\n",
      "Cancelling delivery_id: 59952629-edad-4c71-827d-523345a1ca6f\n",
      "Cancelling delivery_id: 0ee33f16-c9da-42e6-95d6-6a5fbc1c4ebe\n",
      "Cancelling delivery_id: 7c87af43-433b-407e-b6a3-2077b58020b4\n",
      "Cancelling delivery_id: cde657ba-503c-43d8-851c-273a41f39bf3\n",
      "Cancelling delivery_id: 83c01bb8-eb8e-455f-b0b5-a310b9e9767e\n",
      "Cancelling delivery_id: 62046167-a51c-471c-a67a-1495bb6ee0a6\n",
      "Cancelling delivery_id: 1cf24365-8f9a-46db-95b0-87e2018454ad\n",
      "Cancelling delivery_id: faf3ebbf-7934-45df-abc1-1598d7acdaac\n",
      "Cancelling delivery_id: 9fd3bfa4-83b2-4b2a-a7b3-de10c6532bf7\n",
      "Cancelling delivery_id: e052d01e-bea3-4a2d-b890-0ce38c24c519\n",
      "Cancelling delivery_id: fd223605-e0ef-418b-8662-774d9ec316b7\n",
      "Cancelling delivery_id: 271866db-d2d3-40b1-a274-f4e69682cd62\n",
      "Cancelling delivery_id: a2a2b3d4-c39e-4d58-9d03-9e48a738fd8b\n",
      "Cancelling delivery_id: b6f67b89-8982-49a3-87c6-a90778bae203\n",
      "Cancelling delivery_id: 93f6b16d-2338-4866-8e59-ba6a318cdc27\n",
      "Cancelling delivery_id: 206950cf-0580-4079-b8de-28e3d623dd4a\n",
      "Cancelling delivery_id: 6c41bfd5-610c-4a57-9fc3-b531a649ad02\n",
      "Cancelling delivery_id: 7d1c219e-1f34-41ee-89bf-30055dff4873\n",
      "Cancelling delivery_id: 30f345ee-3b2e-47a0-88e1-9ced2a5e68fd\n",
      "Cancelling delivery_id: 93195b11-973c-418d-8e1e-247555e4b91f\n",
      "Cancelling delivery_id: af1a4e0e-34db-4919-940e-4f0d147ae941\n"
     ]
    }
   ],
   "source": [
    "from operator import itemgetter\n",
    "\n",
    "deliveries = uber.deliveries.get().deliveries\n",
    "delivery_ids = map(itemgetter('delivery_id'), deliveries)\n",
    "for delivery_id in delivery_ids:\n",
    "    print(\"Cancelling delivery_id: {}\".format(delivery_id))\n",
    "    response = uber.deliveries(delivery_id).cancel.post()"
   ]
  },
  {
   "cell_type": "markdown",
   "metadata": {},
   "source": [
    "This is where it gets a little interesting. Instead of deleting the delivery, UberRUSH will just mark it as `client_canceled`. We can verify this using the  [`/deliveries/{delivery_id}` endpoint](https://developer.uber.com/docs/rush/api/get-v1-deliveries-delivery_id) once again:"
   ]
  },
  {
   "cell_type": "code",
   "execution_count": 12,
   "metadata": {
    "collapsed": false
   },
   "outputs": [
    {
     "name": "stdout",
     "output_type": "stream",
     "text": [
      "client_canceled\n"
     ]
    }
   ],
   "source": [
    "print(uber.deliveries(delivery_id).get().status)"
   ]
  },
  {
   "cell_type": "markdown",
   "metadata": {},
   "source": [
    "Good. Google will not get their iPhone 8 anymore and __step 5__ is complete.\n",
    "\n",
    "We've now gone through the whole UberRUSH cycle in one sitting! What's the verdict?"
   ]
  },
  {
   "cell_type": "markdown",
   "metadata": {},
   "source": [
    "## Summary\n",
    "It is exciting to think about the potential uses for this easy-to-use API. Ordering flowers and having them instantly shipped to your apartment while cutting out all the messy delivery middleware? Having hipster bike couriers bring artisanal craft beer? All this is going to be possible with UberRUSH! Farewell, Spoonrocket!👻"
   ]
  },
  {
   "cell_type": "code",
   "execution_count": null,
   "metadata": {
    "collapsed": true
   },
   "outputs": [],
   "source": []
  }
 ],
 "metadata": {
  "kernelspec": {
   "display_name": "Python 3",
   "language": "python",
   "name": "python3"
  },
  "language_info": {
   "codemirror_mode": {
    "name": "ipython",
    "version": 3
   },
   "file_extension": ".py",
   "mimetype": "text/x-python",
   "name": "python",
   "nbconvert_exporter": "python",
   "pygments_lexer": "ipython3",
   "version": "3.5.1"
  }
 },
 "nbformat": 4,
 "nbformat_minor": 0
}
